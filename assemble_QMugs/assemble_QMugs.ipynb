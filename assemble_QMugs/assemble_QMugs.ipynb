{
 "cells": [
  {
   "cell_type": "code",
   "execution_count": 1,
   "metadata": {},
   "outputs": [],
   "source": [
    "import pandas as pd"
   ]
  },
  {
   "cell_type": "code",
   "execution_count": 7,
   "metadata": {},
   "outputs": [],
   "source": [
    "xtb_cols = ['GFN2_TOTAL_ENERGY', 'GFN2_ATOMIC_ENERGY', 'GFN2_FORMATION_ENERGY', 'GFN2_HOMO_ENERGY', 'GFN2_LUMO_ENERGY',\n",
    "            'GFN2_ROT_CONSTANT_A', 'GFN2_ROT_CONSTANT_B', 'GFN2_ROT_CONSTANT_C', 'GFN2_DIPOLE_X', 'GFN2_DIPOLE_Y',\n",
    "            'GFN2_DIPOLE_Z', 'GFN2_DIPOLE_TOT']\n",
    "dft_cols = ['DFT' + s[4:] for s in xtb_cols]"
   ]
  },
  {
   "cell_type": "code",
   "execution_count": 2,
   "metadata": {},
   "outputs": [],
   "source": [
    "df_qmugs = pd.read_csv('...')"
   ]
  },
  {
   "cell_type": "code",
   "execution_count": 4,
   "metadata": {},
   "outputs": [],
   "source": [
    "train_8k_indices = pd.read_csv('data_indices/train_8K.csv')\n",
    "val_1k_indices = pd.read_csv('data_indices/val_1K.csv')\n",
    "test_1k_indices = pd.read_csv('data_indices/test_1K.csv')"
   ]
  },
  {
   "cell_type": "code",
   "execution_count": 5,
   "metadata": {},
   "outputs": [
    {
     "data": {
      "text/html": [
       "<div>\n",
       "<style scoped>\n",
       "    .dataframe tbody tr th:only-of-type {\n",
       "        vertical-align: middle;\n",
       "    }\n",
       "\n",
       "    .dataframe tbody tr th {\n",
       "        vertical-align: top;\n",
       "    }\n",
       "\n",
       "    .dataframe thead th {\n",
       "        text-align: right;\n",
       "    }\n",
       "</style>\n",
       "<table border=\"1\" class=\"dataframe\">\n",
       "  <thead>\n",
       "    <tr style=\"text-align: right;\">\n",
       "      <th></th>\n",
       "      <th>index</th>\n",
       "      <th>chembl_id</th>\n",
       "      <th>conf_id</th>\n",
       "    </tr>\n",
       "  </thead>\n",
       "  <tbody>\n",
       "    <tr>\n",
       "      <th>0</th>\n",
       "      <td>364495</td>\n",
       "      <td>CHEMBL3659893</td>\n",
       "      <td>conf_01</td>\n",
       "    </tr>\n",
       "    <tr>\n",
       "      <th>1</th>\n",
       "      <td>24295</td>\n",
       "      <td>CHEMBL120563</td>\n",
       "      <td>conf_00</td>\n",
       "    </tr>\n",
       "    <tr>\n",
       "      <th>2</th>\n",
       "      <td>126188</td>\n",
       "      <td>CHEMBL185198</td>\n",
       "      <td>conf_02</td>\n",
       "    </tr>\n",
       "    <tr>\n",
       "      <th>3</th>\n",
       "      <td>587334</td>\n",
       "      <td>CHEMBL44814</td>\n",
       "      <td>conf_01</td>\n",
       "    </tr>\n",
       "    <tr>\n",
       "      <th>4</th>\n",
       "      <td>549961</td>\n",
       "      <td>CHEMBL41597</td>\n",
       "      <td>conf_02</td>\n",
       "    </tr>\n",
       "    <tr>\n",
       "      <th>...</th>\n",
       "      <td>...</td>\n",
       "      <td>...</td>\n",
       "      <td>...</td>\n",
       "    </tr>\n",
       "    <tr>\n",
       "      <th>7995</th>\n",
       "      <td>491661</td>\n",
       "      <td>CHEMBL3956318</td>\n",
       "      <td>conf_00</td>\n",
       "    </tr>\n",
       "    <tr>\n",
       "      <th>7996</th>\n",
       "      <td>515797</td>\n",
       "      <td>CHEMBL403844</td>\n",
       "      <td>conf_01</td>\n",
       "    </tr>\n",
       "    <tr>\n",
       "      <th>7997</th>\n",
       "      <td>552733</td>\n",
       "      <td>CHEMBL4166555</td>\n",
       "      <td>conf_02</td>\n",
       "    </tr>\n",
       "    <tr>\n",
       "      <th>7998</th>\n",
       "      <td>558449</td>\n",
       "      <td>CHEMBL4202895</td>\n",
       "      <td>conf_02</td>\n",
       "    </tr>\n",
       "    <tr>\n",
       "      <th>7999</th>\n",
       "      <td>643822</td>\n",
       "      <td>CHEMBL600132</td>\n",
       "      <td>conf_02</td>\n",
       "    </tr>\n",
       "  </tbody>\n",
       "</table>\n",
       "<p>8000 rows × 3 columns</p>\n",
       "</div>"
      ],
      "text/plain": [
       "       index      chembl_id  conf_id\n",
       "0     364495  CHEMBL3659893  conf_01\n",
       "1      24295   CHEMBL120563  conf_00\n",
       "2     126188   CHEMBL185198  conf_02\n",
       "3     587334    CHEMBL44814  conf_01\n",
       "4     549961    CHEMBL41597  conf_02\n",
       "...      ...            ...      ...\n",
       "7995  491661  CHEMBL3956318  conf_00\n",
       "7996  515797   CHEMBL403844  conf_01\n",
       "7997  552733  CHEMBL4166555  conf_02\n",
       "7998  558449  CHEMBL4202895  conf_02\n",
       "7999  643822   CHEMBL600132  conf_02\n",
       "\n",
       "[8000 rows x 3 columns]"
      ]
     },
     "execution_count": 5,
     "metadata": {},
     "output_type": "execute_result"
    }
   ],
   "source": [
    "train_8k_indices"
   ]
  },
  {
   "cell_type": "code",
   "execution_count": 13,
   "metadata": {},
   "outputs": [],
   "source": [
    "df_train = df_qmugs.merge(train_8k_indices, on=['chembl_id', 'conf_id'])[['SMILES'] + xtb_cols + dft_cols]\n",
    "df_val = df_qmugs.merge(val_1k_indices, on=['chembl_id', 'conf_id'])[['SMILES'] + xtb_cols + dft_cols]\n",
    "df_test = df_qmugs.merge(test_1k_indices, on=['chembl_id', 'conf_id'])[['SMILES'] + xtb_cols + dft_cols]"
   ]
  },
  {
   "cell_type": "code",
   "execution_count": 16,
   "metadata": {},
   "outputs": [
    {
     "data": {
      "text/plain": [
       "8000"
      ]
     },
     "execution_count": 16,
     "metadata": {},
     "output_type": "execute_result"
    }
   ],
   "source": [
    "len(df_train)"
   ]
  },
  {
   "cell_type": "code",
   "execution_count": 18,
   "metadata": {},
   "outputs": [
    {
     "data": {
      "text/plain": [
       "1000"
      ]
     },
     "execution_count": 18,
     "metadata": {},
     "output_type": "execute_result"
    }
   ],
   "source": [
    "len(df_val)"
   ]
  },
  {
   "cell_type": "code",
   "execution_count": 19,
   "metadata": {},
   "outputs": [
    {
     "data": {
      "text/plain": [
       "1000"
      ]
     },
     "execution_count": 19,
     "metadata": {},
     "output_type": "execute_result"
    }
   ],
   "source": [
    "len(df_test)"
   ]
  },
  {
   "cell_type": "code",
   "execution_count": 15,
   "metadata": {},
   "outputs": [],
   "source": [
    "df_train.to_csv('.../train_8K.csv', index=False)\n",
    "df_val.to_csv('.../val_8K.csv', index=False)\n",
    "df_test.to_csv('.../test_8K.csv', index=False)"
   ]
  },
  {
   "cell_type": "code",
   "execution_count": null,
   "metadata": {},
   "outputs": [],
   "source": []
  }
 ],
 "metadata": {
  "kernelspec": {
   "display_name": "pt-nov-2022",
   "language": "python",
   "name": "python3"
  },
  "language_info": {
   "codemirror_mode": {
    "name": "ipython",
    "version": 3
   },
   "file_extension": ".py",
   "mimetype": "text/x-python",
   "name": "python",
   "nbconvert_exporter": "python",
   "pygments_lexer": "ipython3",
   "version": "3.9.15"
  },
  "orig_nbformat": 4
 },
 "nbformat": 4,
 "nbformat_minor": 2
}
